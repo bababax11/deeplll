{
 "metadata": {
  "language_info": {
   "codemirror_mode": {
    "name": "ipython",
    "version": 3
   },
   "file_extension": ".py",
   "mimetype": "text/x-python",
   "name": "python",
   "nbconvert_exporter": "python",
   "pygments_lexer": "ipython3",
   "version": "3.9.1-final"
  },
  "orig_nbformat": 2,
  "kernelspec": {
   "name": "python3",
   "display_name": "Python 3.9.1 64-bit ('new_pandas': conda)",
   "metadata": {
    "interpreter": {
     "hash": "e8380bb21765a772173d47f0e55a6cc4b3161bde3a11ee26e0fcfde2b64dfb46"
    }
   }
  }
 },
 "nbformat": 4,
 "nbformat_minor": 2,
 "cells": [
  {
   "cell_type": "code",
   "execution_count": 1,
   "metadata": {},
   "outputs": [],
   "source": [
    "import pandas as pd\n",
    "import numpy as np\n",
    "import numpy.linalg as la\n",
    "from pprint import pprint\n",
    "import pyperclip\n",
    "pd.set_option('display.max_rows', 1000)"
   ]
  },
  {
   "cell_type": "code",
   "execution_count": 4,
   "metadata": {},
   "outputs": [],
   "source": [
    "results = pd.read_csv('results_summary/summary.csv', index_col='file_path')\n",
    "random_df = pd.read_csv('results_summary/random.csv').sort_values([\"dim\",  \"seed\",\"algo\", \"delta\"])\n",
    "svp_df = pd.read_csv('results_summary/svp.csv').sort_values([\"dim\",  \"seed\",\"algo\", \"delta\"])\n",
    "M_dets = pd.read_csv('matrices_analysis/M_det.csv')[['type', 'ndim', 'seed', 'max_row_norm_f64', 'det_f64']]\n",
    "M_dets = M_dets.sort_values(['ndim', 'type'], ascending=[True, False])\n",
    "L = 12"
   ]
  },
  {
   "cell_type": "code",
   "execution_count": 74,
   "metadata": {},
   "outputs": [
    {
     "output_type": "stream",
     "name": "stdout",
     "text": [
      "          algo  all_dim  seed  dim  delta        sec    len    cnt\n119  deeplll05       40     4   40   0.99    503.209   1340  13111\n120  deeplll05       40     4   40   1.00    575.908   1475  14691\n189  deeplll10       40     4   40   0.99   1718.241   2567  50676\n190  deeplll10       40     4   40   1.00   1256.376   2258  39906\n259        lll       40     4   40   0.99  21009.477  25525  50583\n260        lll       40     4   40   1.00  22629.630  28013  55541\n329     potlll       40     4   40   0.99  19637.800  11608  52661\n330     potlll       40     4   40   1.00  18719.887  12277  53907\n399      s2lll       40     4   40   0.99   5495.604   1465  17761\n400      s2lll       40     4   40   1.00  16867.914  10940  49266\n-- & -- & 1340 & 1475 & 2567 & 2258 & 25525 & 28013 & 11608 & 12277 & 1465 & 10940\n"
     ]
    }
   ],
   "source": [
    "n = 34\n",
    "T = 25 * 12 + 1\n",
    "L2 = 10\n",
    "tmp = svp_df[n * L: (n + 1) * L] if n < 25 else \\\n",
    "    svp_df[T + (n - 25) * L2: T + (n - 24) * L2]\n",
    "print(tmp)\n",
    "st = ' & '.join(map(str, tmp['len']))\n",
    "if n >= 25:\n",
    "    st = '-- & -- & ' + st\n",
    "print(st)\n",
    "pyperclip.copy(st)"
   ]
  },
  {
   "cell_type": "code",
   "execution_count": 83,
   "metadata": {},
   "outputs": [
    {
     "output_type": "stream",
     "name": "stdout",
     "text": [
      "          algo  all_dim  seed  gen_cnt  dim  delta      sec  len    cnt\n192  deeplll10       40     1     1000   40   0.99  431.243  317   7263\n193  deeplll10       40     1     1000   40   1.00  501.577  365   8590\n124  deeplll05       40     2     1000   40   0.99  185.223  139   1925\n125  deeplll05       40     2     1000   40   1.00  178.567  138   1831\n194  deeplll10       40     2     1000   40   0.99  573.153  424  10435\n195  deeplll10       40     2     1000   40   1.00  658.486  492  12023\n126  deeplll05       40     3     1000   40   0.99  238.695  188   2559\n127  deeplll05       40     3     1000   40   1.00  178.616  143   1757\n196  deeplll10       40     3     1000   40   0.99  416.540  297   7359\n197  deeplll10       40     3     1000   40   1.00  585.456  445  10589\n128  deeplll05       40     4     1000   40   0.99  261.181  211   2981\n129  deeplll05       40     4     1000   40   1.00  256.571  217   2808\n317 & 365 & 139 & 138 & 424 & 492 & 188 & 143 & 297 & 445 & 211 & 217\n"
     ]
    }
   ],
   "source": [
    "n = 31\n",
    "tmp = random_df[n * L: (n + 1) * L]\n",
    "print(tmp)\n",
    "st = ' & '.join(map(str, tmp['len']))\n",
    "print(st)\n",
    "pyperclip.copy(st)"
   ]
  },
  {
   "cell_type": "code",
   "execution_count": 84,
   "metadata": {},
   "outputs": [
    {
     "output_type": "execute_result",
     "data": {
      "text/plain": [
       "          algo  all_dim  seed  gen_cnt  dim  delta        sec    len    cnt\n",
       "120  deeplll05       40     0     1000   40   0.99    248.082    195   2708\n",
       "121  deeplll05       40     0     1000   40   1.00    284.280    223   3208\n",
       "190  deeplll10       40     0     1000   40   0.99    522.556    387   9850\n",
       "191  deeplll10       40     0     1000   40   1.00    543.426    407  10013\n",
       "260        lll       40     0     1000   40   0.99   6477.466  17063  34081\n",
       "261        lll       40     0     1000   40   1.00   7088.515  18537  37030\n",
       "332     potlll       40     0     1000   40   0.99   5559.420   7869  36951\n",
       "333     potlll       40     0     1000   40   1.00   6440.258   8372  38051\n",
       "404      s2lll       40     0     1000   40   0.99   1579.953    572  11161\n",
       "405      s2lll       40     0     1000   40   1.00   5677.000   7513  34924\n",
       "122  deeplll05       40     1     1000   40   0.99    189.634    146   1961\n",
       "123  deeplll05       40     1     1000   40   1.00    211.834    162   2226\n",
       "192  deeplll10       40     1     1000   40   0.99    431.243    317   7263\n",
       "193  deeplll10       40     1     1000   40   1.00    501.577    365   8590\n",
       "124  deeplll05       40     2     1000   40   0.99    185.223    139   1925\n",
       "125  deeplll05       40     2     1000   40   1.00    178.567    138   1831\n",
       "194  deeplll10       40     2     1000   40   0.99    573.153    424  10435\n",
       "195  deeplll10       40     2     1000   40   1.00    658.486    492  12023\n",
       "126  deeplll05       40     3     1000   40   0.99    238.695    188   2559\n",
       "127  deeplll05       40     3     1000   40   1.00    178.616    143   1757\n",
       "196  deeplll10       40     3     1000   40   0.99    416.540    297   7359\n",
       "197  deeplll10       40     3     1000   40   1.00    585.456    445  10589\n",
       "128  deeplll05       40     4     1000   40   0.99    261.181    211   2981\n",
       "129  deeplll05       40     4     1000   40   1.00    256.571    217   2808\n",
       "198  deeplll10       40     4     1000   40   0.99    518.343    397   9448\n",
       "199  deeplll10       40     4     1000   40   1.00    565.315    450  10597\n",
       "262        lll       45     0     1000   45   0.99   9592.693  19651  39274\n",
       "263        lll       45     0     1000   45   1.00  10293.371  20659  41291\n",
       "334     potlll       45     0     1000   45   0.99   8338.808   9176  43245\n",
       "335     potlll       45     0     1000   45   1.00   8855.072   9676  43542\n",
       "406      s2lll       45     0     1000   45   0.99   2371.490    584  12658\n",
       "407      s2lll       45     0     1000   45   1.00   8138.621   8705  40677\n",
       "264        lll       45     1     1000   45   0.99  11534.303  20633  41221\n",
       "265        lll       45     1     1000   45   1.00  11471.002  22042  44046\n",
       "336     potlll       45     1     1000   45   0.99   9653.412   9733  45415\n",
       "337     potlll       45     1     1000   45   1.00   9506.762  10021  45128\n",
       "408      s2lll       45     1     1000   45   0.99   2589.642    598  12742\n",
       "409      s2lll       45     1     1000   45   1.00   9359.319   9346  43131\n",
       "266        lll       45     2     1000   45   0.99  11048.893  20787  41532\n",
       "267        lll       45     2     1000   45   1.00  11672.446  21882  43721\n",
       "338     potlll       45     2     1000   45   0.99   9534.017   9574  45185\n",
       "339     potlll       45     2     1000   45   1.00  10018.913  10556  47354\n",
       "410      s2lll       45     2     1000   45   0.99   2544.447    591  12837\n",
       "411      s2lll       45     2     1000   45   1.00   9236.419   9455  44038\n",
       "268        lll       45     3     1000   45   0.99  11202.723  20954  41871\n",
       "269        lll       45     3     1000   45   1.00  11862.843  22148  44264\n",
       "340     potlll       45     3     1000   45   0.99   9699.323   9934  46228\n",
       "341     potlll       45     3     1000   45   1.00  10023.323  10093  45558\n",
       "412      s2lll       45     3     1000   45   0.99   2650.588    615  13344\n",
       "413      s2lll       45     3     1000   45   1.00   9341.175   9507  43938\n",
       "270        lll       45     4     1000   45   0.99  10649.636  19440  38855\n",
       "271        lll       45     4     1000   45   1.00  10954.346  21407  42787\n",
       "342     potlll       45     4     1000   45   0.99   9011.623   8881  41555\n",
       "343     potlll       45     4     1000   45   1.00   9395.175   9635  43896\n",
       "414      s2lll       45     4     1000   45   0.99   2439.476    559  12413\n",
       "415      s2lll       45     4     1000   45   1.00   8727.085   8685  39694"
      ],
      "text/html": "<div>\n<style scoped>\n    .dataframe tbody tr th:only-of-type {\n        vertical-align: middle;\n    }\n\n    .dataframe tbody tr th {\n        vertical-align: top;\n    }\n\n    .dataframe thead th {\n        text-align: right;\n    }\n</style>\n<table border=\"1\" class=\"dataframe\">\n  <thead>\n    <tr style=\"text-align: right;\">\n      <th></th>\n      <th>algo</th>\n      <th>all_dim</th>\n      <th>seed</th>\n      <th>gen_cnt</th>\n      <th>dim</th>\n      <th>delta</th>\n      <th>sec</th>\n      <th>len</th>\n      <th>cnt</th>\n    </tr>\n  </thead>\n  <tbody>\n    <tr>\n      <th>120</th>\n      <td>deeplll05</td>\n      <td>40</td>\n      <td>0</td>\n      <td>1000</td>\n      <td>40</td>\n      <td>0.99</td>\n      <td>248.082</td>\n      <td>195</td>\n      <td>2708</td>\n    </tr>\n    <tr>\n      <th>121</th>\n      <td>deeplll05</td>\n      <td>40</td>\n      <td>0</td>\n      <td>1000</td>\n      <td>40</td>\n      <td>1.00</td>\n      <td>284.280</td>\n      <td>223</td>\n      <td>3208</td>\n    </tr>\n    <tr>\n      <th>190</th>\n      <td>deeplll10</td>\n      <td>40</td>\n      <td>0</td>\n      <td>1000</td>\n      <td>40</td>\n      <td>0.99</td>\n      <td>522.556</td>\n      <td>387</td>\n      <td>9850</td>\n    </tr>\n    <tr>\n      <th>191</th>\n      <td>deeplll10</td>\n      <td>40</td>\n      <td>0</td>\n      <td>1000</td>\n      <td>40</td>\n      <td>1.00</td>\n      <td>543.426</td>\n      <td>407</td>\n      <td>10013</td>\n    </tr>\n    <tr>\n      <th>260</th>\n      <td>lll</td>\n      <td>40</td>\n      <td>0</td>\n      <td>1000</td>\n      <td>40</td>\n      <td>0.99</td>\n      <td>6477.466</td>\n      <td>17063</td>\n      <td>34081</td>\n    </tr>\n    <tr>\n      <th>261</th>\n      <td>lll</td>\n      <td>40</td>\n      <td>0</td>\n      <td>1000</td>\n      <td>40</td>\n      <td>1.00</td>\n      <td>7088.515</td>\n      <td>18537</td>\n      <td>37030</td>\n    </tr>\n    <tr>\n      <th>332</th>\n      <td>potlll</td>\n      <td>40</td>\n      <td>0</td>\n      <td>1000</td>\n      <td>40</td>\n      <td>0.99</td>\n      <td>5559.420</td>\n      <td>7869</td>\n      <td>36951</td>\n    </tr>\n    <tr>\n      <th>333</th>\n      <td>potlll</td>\n      <td>40</td>\n      <td>0</td>\n      <td>1000</td>\n      <td>40</td>\n      <td>1.00</td>\n      <td>6440.258</td>\n      <td>8372</td>\n      <td>38051</td>\n    </tr>\n    <tr>\n      <th>404</th>\n      <td>s2lll</td>\n      <td>40</td>\n      <td>0</td>\n      <td>1000</td>\n      <td>40</td>\n      <td>0.99</td>\n      <td>1579.953</td>\n      <td>572</td>\n      <td>11161</td>\n    </tr>\n    <tr>\n      <th>405</th>\n      <td>s2lll</td>\n      <td>40</td>\n      <td>0</td>\n      <td>1000</td>\n      <td>40</td>\n      <td>1.00</td>\n      <td>5677.000</td>\n      <td>7513</td>\n      <td>34924</td>\n    </tr>\n    <tr>\n      <th>122</th>\n      <td>deeplll05</td>\n      <td>40</td>\n      <td>1</td>\n      <td>1000</td>\n      <td>40</td>\n      <td>0.99</td>\n      <td>189.634</td>\n      <td>146</td>\n      <td>1961</td>\n    </tr>\n    <tr>\n      <th>123</th>\n      <td>deeplll05</td>\n      <td>40</td>\n      <td>1</td>\n      <td>1000</td>\n      <td>40</td>\n      <td>1.00</td>\n      <td>211.834</td>\n      <td>162</td>\n      <td>2226</td>\n    </tr>\n    <tr>\n      <th>192</th>\n      <td>deeplll10</td>\n      <td>40</td>\n      <td>1</td>\n      <td>1000</td>\n      <td>40</td>\n      <td>0.99</td>\n      <td>431.243</td>\n      <td>317</td>\n      <td>7263</td>\n    </tr>\n    <tr>\n      <th>193</th>\n      <td>deeplll10</td>\n      <td>40</td>\n      <td>1</td>\n      <td>1000</td>\n      <td>40</td>\n      <td>1.00</td>\n      <td>501.577</td>\n      <td>365</td>\n      <td>8590</td>\n    </tr>\n    <tr>\n      <th>124</th>\n      <td>deeplll05</td>\n      <td>40</td>\n      <td>2</td>\n      <td>1000</td>\n      <td>40</td>\n      <td>0.99</td>\n      <td>185.223</td>\n      <td>139</td>\n      <td>1925</td>\n    </tr>\n    <tr>\n      <th>125</th>\n      <td>deeplll05</td>\n      <td>40</td>\n      <td>2</td>\n      <td>1000</td>\n      <td>40</td>\n      <td>1.00</td>\n      <td>178.567</td>\n      <td>138</td>\n      <td>1831</td>\n    </tr>\n    <tr>\n      <th>194</th>\n      <td>deeplll10</td>\n      <td>40</td>\n      <td>2</td>\n      <td>1000</td>\n      <td>40</td>\n      <td>0.99</td>\n      <td>573.153</td>\n      <td>424</td>\n      <td>10435</td>\n    </tr>\n    <tr>\n      <th>195</th>\n      <td>deeplll10</td>\n      <td>40</td>\n      <td>2</td>\n      <td>1000</td>\n      <td>40</td>\n      <td>1.00</td>\n      <td>658.486</td>\n      <td>492</td>\n      <td>12023</td>\n    </tr>\n    <tr>\n      <th>126</th>\n      <td>deeplll05</td>\n      <td>40</td>\n      <td>3</td>\n      <td>1000</td>\n      <td>40</td>\n      <td>0.99</td>\n      <td>238.695</td>\n      <td>188</td>\n      <td>2559</td>\n    </tr>\n    <tr>\n      <th>127</th>\n      <td>deeplll05</td>\n      <td>40</td>\n      <td>3</td>\n      <td>1000</td>\n      <td>40</td>\n      <td>1.00</td>\n      <td>178.616</td>\n      <td>143</td>\n      <td>1757</td>\n    </tr>\n    <tr>\n      <th>196</th>\n      <td>deeplll10</td>\n      <td>40</td>\n      <td>3</td>\n      <td>1000</td>\n      <td>40</td>\n      <td>0.99</td>\n      <td>416.540</td>\n      <td>297</td>\n      <td>7359</td>\n    </tr>\n    <tr>\n      <th>197</th>\n      <td>deeplll10</td>\n      <td>40</td>\n      <td>3</td>\n      <td>1000</td>\n      <td>40</td>\n      <td>1.00</td>\n      <td>585.456</td>\n      <td>445</td>\n      <td>10589</td>\n    </tr>\n    <tr>\n      <th>128</th>\n      <td>deeplll05</td>\n      <td>40</td>\n      <td>4</td>\n      <td>1000</td>\n      <td>40</td>\n      <td>0.99</td>\n      <td>261.181</td>\n      <td>211</td>\n      <td>2981</td>\n    </tr>\n    <tr>\n      <th>129</th>\n      <td>deeplll05</td>\n      <td>40</td>\n      <td>4</td>\n      <td>1000</td>\n      <td>40</td>\n      <td>1.00</td>\n      <td>256.571</td>\n      <td>217</td>\n      <td>2808</td>\n    </tr>\n    <tr>\n      <th>198</th>\n      <td>deeplll10</td>\n      <td>40</td>\n      <td>4</td>\n      <td>1000</td>\n      <td>40</td>\n      <td>0.99</td>\n      <td>518.343</td>\n      <td>397</td>\n      <td>9448</td>\n    </tr>\n    <tr>\n      <th>199</th>\n      <td>deeplll10</td>\n      <td>40</td>\n      <td>4</td>\n      <td>1000</td>\n      <td>40</td>\n      <td>1.00</td>\n      <td>565.315</td>\n      <td>450</td>\n      <td>10597</td>\n    </tr>\n    <tr>\n      <th>262</th>\n      <td>lll</td>\n      <td>45</td>\n      <td>0</td>\n      <td>1000</td>\n      <td>45</td>\n      <td>0.99</td>\n      <td>9592.693</td>\n      <td>19651</td>\n      <td>39274</td>\n    </tr>\n    <tr>\n      <th>263</th>\n      <td>lll</td>\n      <td>45</td>\n      <td>0</td>\n      <td>1000</td>\n      <td>45</td>\n      <td>1.00</td>\n      <td>10293.371</td>\n      <td>20659</td>\n      <td>41291</td>\n    </tr>\n    <tr>\n      <th>334</th>\n      <td>potlll</td>\n      <td>45</td>\n      <td>0</td>\n      <td>1000</td>\n      <td>45</td>\n      <td>0.99</td>\n      <td>8338.808</td>\n      <td>9176</td>\n      <td>43245</td>\n    </tr>\n    <tr>\n      <th>335</th>\n      <td>potlll</td>\n      <td>45</td>\n      <td>0</td>\n      <td>1000</td>\n      <td>45</td>\n      <td>1.00</td>\n      <td>8855.072</td>\n      <td>9676</td>\n      <td>43542</td>\n    </tr>\n    <tr>\n      <th>406</th>\n      <td>s2lll</td>\n      <td>45</td>\n      <td>0</td>\n      <td>1000</td>\n      <td>45</td>\n      <td>0.99</td>\n      <td>2371.490</td>\n      <td>584</td>\n      <td>12658</td>\n    </tr>\n    <tr>\n      <th>407</th>\n      <td>s2lll</td>\n      <td>45</td>\n      <td>0</td>\n      <td>1000</td>\n      <td>45</td>\n      <td>1.00</td>\n      <td>8138.621</td>\n      <td>8705</td>\n      <td>40677</td>\n    </tr>\n    <tr>\n      <th>264</th>\n      <td>lll</td>\n      <td>45</td>\n      <td>1</td>\n      <td>1000</td>\n      <td>45</td>\n      <td>0.99</td>\n      <td>11534.303</td>\n      <td>20633</td>\n      <td>41221</td>\n    </tr>\n    <tr>\n      <th>265</th>\n      <td>lll</td>\n      <td>45</td>\n      <td>1</td>\n      <td>1000</td>\n      <td>45</td>\n      <td>1.00</td>\n      <td>11471.002</td>\n      <td>22042</td>\n      <td>44046</td>\n    </tr>\n    <tr>\n      <th>336</th>\n      <td>potlll</td>\n      <td>45</td>\n      <td>1</td>\n      <td>1000</td>\n      <td>45</td>\n      <td>0.99</td>\n      <td>9653.412</td>\n      <td>9733</td>\n      <td>45415</td>\n    </tr>\n    <tr>\n      <th>337</th>\n      <td>potlll</td>\n      <td>45</td>\n      <td>1</td>\n      <td>1000</td>\n      <td>45</td>\n      <td>1.00</td>\n      <td>9506.762</td>\n      <td>10021</td>\n      <td>45128</td>\n    </tr>\n    <tr>\n      <th>408</th>\n      <td>s2lll</td>\n      <td>45</td>\n      <td>1</td>\n      <td>1000</td>\n      <td>45</td>\n      <td>0.99</td>\n      <td>2589.642</td>\n      <td>598</td>\n      <td>12742</td>\n    </tr>\n    <tr>\n      <th>409</th>\n      <td>s2lll</td>\n      <td>45</td>\n      <td>1</td>\n      <td>1000</td>\n      <td>45</td>\n      <td>1.00</td>\n      <td>9359.319</td>\n      <td>9346</td>\n      <td>43131</td>\n    </tr>\n    <tr>\n      <th>266</th>\n      <td>lll</td>\n      <td>45</td>\n      <td>2</td>\n      <td>1000</td>\n      <td>45</td>\n      <td>0.99</td>\n      <td>11048.893</td>\n      <td>20787</td>\n      <td>41532</td>\n    </tr>\n    <tr>\n      <th>267</th>\n      <td>lll</td>\n      <td>45</td>\n      <td>2</td>\n      <td>1000</td>\n      <td>45</td>\n      <td>1.00</td>\n      <td>11672.446</td>\n      <td>21882</td>\n      <td>43721</td>\n    </tr>\n    <tr>\n      <th>338</th>\n      <td>potlll</td>\n      <td>45</td>\n      <td>2</td>\n      <td>1000</td>\n      <td>45</td>\n      <td>0.99</td>\n      <td>9534.017</td>\n      <td>9574</td>\n      <td>45185</td>\n    </tr>\n    <tr>\n      <th>339</th>\n      <td>potlll</td>\n      <td>45</td>\n      <td>2</td>\n      <td>1000</td>\n      <td>45</td>\n      <td>1.00</td>\n      <td>10018.913</td>\n      <td>10556</td>\n      <td>47354</td>\n    </tr>\n    <tr>\n      <th>410</th>\n      <td>s2lll</td>\n      <td>45</td>\n      <td>2</td>\n      <td>1000</td>\n      <td>45</td>\n      <td>0.99</td>\n      <td>2544.447</td>\n      <td>591</td>\n      <td>12837</td>\n    </tr>\n    <tr>\n      <th>411</th>\n      <td>s2lll</td>\n      <td>45</td>\n      <td>2</td>\n      <td>1000</td>\n      <td>45</td>\n      <td>1.00</td>\n      <td>9236.419</td>\n      <td>9455</td>\n      <td>44038</td>\n    </tr>\n    <tr>\n      <th>268</th>\n      <td>lll</td>\n      <td>45</td>\n      <td>3</td>\n      <td>1000</td>\n      <td>45</td>\n      <td>0.99</td>\n      <td>11202.723</td>\n      <td>20954</td>\n      <td>41871</td>\n    </tr>\n    <tr>\n      <th>269</th>\n      <td>lll</td>\n      <td>45</td>\n      <td>3</td>\n      <td>1000</td>\n      <td>45</td>\n      <td>1.00</td>\n      <td>11862.843</td>\n      <td>22148</td>\n      <td>44264</td>\n    </tr>\n    <tr>\n      <th>340</th>\n      <td>potlll</td>\n      <td>45</td>\n      <td>3</td>\n      <td>1000</td>\n      <td>45</td>\n      <td>0.99</td>\n      <td>9699.323</td>\n      <td>9934</td>\n      <td>46228</td>\n    </tr>\n    <tr>\n      <th>341</th>\n      <td>potlll</td>\n      <td>45</td>\n      <td>3</td>\n      <td>1000</td>\n      <td>45</td>\n      <td>1.00</td>\n      <td>10023.323</td>\n      <td>10093</td>\n      <td>45558</td>\n    </tr>\n    <tr>\n      <th>412</th>\n      <td>s2lll</td>\n      <td>45</td>\n      <td>3</td>\n      <td>1000</td>\n      <td>45</td>\n      <td>0.99</td>\n      <td>2650.588</td>\n      <td>615</td>\n      <td>13344</td>\n    </tr>\n    <tr>\n      <th>413</th>\n      <td>s2lll</td>\n      <td>45</td>\n      <td>3</td>\n      <td>1000</td>\n      <td>45</td>\n      <td>1.00</td>\n      <td>9341.175</td>\n      <td>9507</td>\n      <td>43938</td>\n    </tr>\n    <tr>\n      <th>270</th>\n      <td>lll</td>\n      <td>45</td>\n      <td>4</td>\n      <td>1000</td>\n      <td>45</td>\n      <td>0.99</td>\n      <td>10649.636</td>\n      <td>19440</td>\n      <td>38855</td>\n    </tr>\n    <tr>\n      <th>271</th>\n      <td>lll</td>\n      <td>45</td>\n      <td>4</td>\n      <td>1000</td>\n      <td>45</td>\n      <td>1.00</td>\n      <td>10954.346</td>\n      <td>21407</td>\n      <td>42787</td>\n    </tr>\n    <tr>\n      <th>342</th>\n      <td>potlll</td>\n      <td>45</td>\n      <td>4</td>\n      <td>1000</td>\n      <td>45</td>\n      <td>0.99</td>\n      <td>9011.623</td>\n      <td>8881</td>\n      <td>41555</td>\n    </tr>\n    <tr>\n      <th>343</th>\n      <td>potlll</td>\n      <td>45</td>\n      <td>4</td>\n      <td>1000</td>\n      <td>45</td>\n      <td>1.00</td>\n      <td>9395.175</td>\n      <td>9635</td>\n      <td>43896</td>\n    </tr>\n    <tr>\n      <th>414</th>\n      <td>s2lll</td>\n      <td>45</td>\n      <td>4</td>\n      <td>1000</td>\n      <td>45</td>\n      <td>0.99</td>\n      <td>2439.476</td>\n      <td>559</td>\n      <td>12413</td>\n    </tr>\n    <tr>\n      <th>415</th>\n      <td>s2lll</td>\n      <td>45</td>\n      <td>4</td>\n      <td>1000</td>\n      <td>45</td>\n      <td>1.00</td>\n      <td>8727.085</td>\n      <td>8685</td>\n      <td>39694</td>\n    </tr>\n  </tbody>\n</table>\n</div>"
     },
     "metadata": {},
     "execution_count": 84
    }
   ],
   "source": [
    "random_df[30 * 12:]"
   ]
  },
  {
   "cell_type": "code",
   "execution_count": null,
   "metadata": {},
   "outputs": [],
   "source": []
  }
 ]
}